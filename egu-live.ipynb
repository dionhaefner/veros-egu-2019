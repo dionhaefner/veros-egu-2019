{
 "cells": [
  {
   "cell_type": "markdown",
   "metadata": {},
   "source": [
    "# Veros showcase\n",
    "\n",
    "EGU 2019"
   ]
  },
  {
   "cell_type": "code",
   "execution_count": null,
   "metadata": {},
   "outputs": [],
   "source": [
    "%autosave 0\n",
    "%matplotlib inline\n",
    "import numpy as np\n",
    "import matplotlib.pyplot as plt"
   ]
  },
  {
   "cell_type": "code",
   "execution_count": null,
   "metadata": {},
   "outputs": [],
   "source": [
    "plt.rcParams['figure.dpi'] = 100\n",
    "plt.rcParams['figure.figsize'] = (10, 6.5)"
   ]
  },
  {
   "cell_type": "markdown",
   "metadata": {},
   "source": [
    "## A simple 4x4 degree setup"
   ]
  },
  {
   "cell_type": "code",
   "execution_count": null,
   "metadata": {},
   "outputs": [],
   "source": [
    "from veros.setup.global_flexible import GlobalFlexibleResolutionSetup\n",
    "\n",
    "class EGUSetup(GlobalFlexibleResolutionSetup):\n",
    "    min_depth = 50\n",
    "\n",
    "    def set_parameter(self, vs):\n",
    "        super().set_parameter(vs)\n",
    "        vs.nx = 90\n",
    "        vs.ny = 40\n",
    "        vs.nz = 15\n",
    "\n",
    "        vs.dt_tracer = 86400\n",
    "        vs.dt_mom = 1800\n",
    "        \n",
    "        vs.diskless_mode = True\n",
    "\n",
    "    def set_diagnostics(self, vs):\n",
    "        pass"
   ]
  },
  {
   "cell_type": "code",
   "execution_count": null,
   "metadata": {},
   "outputs": [],
   "source": [
    "sim = EGUSetup()\n",
    "sim.setup()"
   ]
  },
  {
   "cell_type": "code",
   "execution_count": null,
   "metadata": {},
   "outputs": [],
   "source": [
    "vs = sim.state"
   ]
  },
  {
   "cell_type": "code",
   "execution_count": null,
   "metadata": {},
   "outputs": [],
   "source": [
    "coords = np.meshgrid(vs.xt[2:-2], vs.yt[2:-2], indexing='ij')"
   ]
  },
  {
   "cell_type": "code",
   "execution_count": null,
   "metadata": {
    "scrolled": false
   },
   "outputs": [],
   "source": [
    "plt.pcolormesh(*coords, vs.ht[2:-2, 2:-2], cmap='Blues')\n",
    "plt.axis('off')\n",
    "plt.colorbar();"
   ]
  },
  {
   "cell_type": "code",
   "execution_count": null,
   "metadata": {},
   "outputs": [],
   "source": [
    "vs.runlen = 86400 * 20"
   ]
  },
  {
   "cell_type": "code",
   "execution_count": null,
   "metadata": {},
   "outputs": [],
   "source": [
    "sim.run()"
   ]
  },
  {
   "cell_type": "code",
   "execution_count": null,
   "metadata": {},
   "outputs": [],
   "source": [
    "cs = plt.contourf(\n",
    "    *coords,\n",
    "    vs.psi[2:-2, 2:-2, vs.tau],\n",
    "    50\n",
    ")\n",
    "plt.contourf(*coords, vs.maskT[2:-2, 2:-2, -1], [-1e-3, 1e-3],\n",
    "             colors='0.2')\n",
    "plt.axis('off')\n",
    "plt.colorbar(cs)"
   ]
  },
  {
   "cell_type": "markdown",
   "metadata": {},
   "source": [
    "## Let's modify that!"
   ]
  },
  {
   "cell_type": "code",
   "execution_count": null,
   "metadata": {},
   "outputs": [],
   "source": [
    "class ModifiedEGUSetup(GlobalFlexibleResolutionSetup):\n",
    "    min_depth = 50\n",
    "\n",
    "    def set_parameter(self, vs):\n",
    "        super().set_parameter(vs)\n",
    "        vs.nx = 90\n",
    "        vs.ny = 40\n",
    "        vs.nz = 15\n",
    "\n",
    "        vs.dt_tracer = 86400\n",
    "        vs.dt_mom = 1800\n",
    "        vs.runlen = 86400 * 20\n",
    "        \n",
    "        vs.diskless_mode = True\n",
    "        \n",
    "    def set_topography(self, vs):\n",
    "        super().set_topography(vs)\n",
    "        vs.kbot[52:55, 3:8] = 0\n",
    "\n",
    "    def set_diagnostics(self, vs):\n",
    "        pass"
   ]
  },
  {
   "cell_type": "code",
   "execution_count": null,
   "metadata": {},
   "outputs": [],
   "source": [
    "sim2 = ModifiedEGUSetup()\n",
    "sim2.setup()"
   ]
  },
  {
   "cell_type": "code",
   "execution_count": null,
   "metadata": {},
   "outputs": [],
   "source": [
    "sim2.run()"
   ]
  },
  {
   "cell_type": "code",
   "execution_count": null,
   "metadata": {},
   "outputs": [],
   "source": [
    "vs = sim2.state\n",
    "\n",
    "cs = plt.contourf(\n",
    "    *coords,\n",
    "    vs.psi[2:-2, 2:-2, vs.tau],\n",
    "    50\n",
    ")\n",
    "plt.contourf(\n",
    "    *coords,\n",
    "    vs.maskT[2:-2, 2:-2, -1],\n",
    "    [-1e-3, 1e-3],\n",
    "    colors='0.2'\n",
    ")\n",
    "plt.axis('off')\n",
    "plt.colorbar(cs);"
   ]
  }
 ],
 "metadata": {
  "kernelspec": {
   "display_name": "Python 3",
   "language": "python",
   "name": "python3"
  },
  "language_info": {
   "codemirror_mode": {
    "name": "ipython",
    "version": 3
   },
   "file_extension": ".py",
   "mimetype": "text/x-python",
   "name": "python",
   "nbconvert_exporter": "python",
   "pygments_lexer": "ipython3",
   "version": "3.7.2"
  }
 },
 "nbformat": 4,
 "nbformat_minor": 2
}
